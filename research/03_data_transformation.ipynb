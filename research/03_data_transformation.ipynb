{
 "cells": [
  {
   "cell_type": "code",
   "execution_count": 10,
   "metadata": {},
   "outputs": [],
   "source": [
    "# importing dependencies\n",
    "\n",
    "import os\n",
    "import cv2\n",
    "import logging\n",
    "import numpy as np\n",
    "from pathlib import Path\n",
    "from torchvision import transforms\n",
    "from pathlib import Path"
   ]
  },
  {
   "cell_type": "code",
   "execution_count": 2,
   "metadata": {},
   "outputs": [
    {
     "data": {
      "text/plain": [
       "'e:\\\\AI DA Portfolio\\\\Potato-Disease\\\\research'"
      ]
     },
     "execution_count": 2,
     "metadata": {},
     "output_type": "execute_result"
    }
   ],
   "source": [
    "%pwd"
   ]
  },
  {
   "cell_type": "code",
   "execution_count": 3,
   "metadata": {},
   "outputs": [],
   "source": [
    "os.chdir('../')"
   ]
  },
  {
   "cell_type": "code",
   "execution_count": 4,
   "metadata": {},
   "outputs": [
    {
     "data": {
      "text/plain": [
       "'e:\\\\AI DA Portfolio\\\\Potato-Disease'"
      ]
     },
     "execution_count": 4,
     "metadata": {},
     "output_type": "execute_result"
    }
   ],
   "source": [
    "%pwd"
   ]
  },
  {
   "cell_type": "code",
   "execution_count": 34,
   "metadata": {},
   "outputs": [],
   "source": [
    "from dataclasses import dataclass\n",
    "\n",
    "@dataclass(frozen=True)\n",
    "class DataTransformationConfig:\n",
    "    transformed_dir: Path\n",
    "    unzip_train_dir: Path\n",
    "    unzip_val_dir: Path\n",
    "    unzip_test_dir: Path"
   ]
  },
  {
   "cell_type": "code",
   "execution_count": 6,
   "metadata": {},
   "outputs": [],
   "source": [
    "from PotatoDisease.constants import *\n",
    "from PotatoDisease.utils.common import read_yaml, create_directories"
   ]
  },
  {
   "cell_type": "code",
   "execution_count": 31,
   "metadata": {},
   "outputs": [],
   "source": [
    "class ConfigurationManager:\n",
    "    def __init__(\n",
    "        self,\n",
    "        config_filepath=CONFIG_FILE_PATH,\n",
    "        params_filepath=PARAMS_FILE_PATH\n",
    "    ):\n",
    "        self.config = read_yaml(Path(config_filepath))\n",
    "        self.params = read_yaml(Path(params_filepath))\n",
    "\n",
    "        create_directories([self.config.artifacts_root])\n",
    "\n",
    "    def get_data_transformation_config(self) -> DataTransformationConfig:\n",
    "        config = self.config.data_transformation\n",
    "        return DataTransformationConfig(\n",
    "            transformed_dir=Path(config.transformed_dir),\n",
    "            unzip_train_dir=Path(config.unzip_train_dir),\n",
    "            unzip_val_dir=Path(config.unzip_val_dir),\n",
    "            unzip_test_dir=Path(config.unzip_test_dir)\n",
    "        )"
   ]
  },
  {
   "cell_type": "code",
   "execution_count": 38,
   "metadata": {},
   "outputs": [],
   "source": [
    "class DataTransformation:\n",
    "    def __init__(self, config: DataTransformationConfig):\n",
    "        self.config = config\n",
    "        self.logger = logging.getLogger(__name__)\n",
    "\n",
    "    def resize_image(self, image, size=(256, 256)):\n",
    "        \"\"\"Resize the image to the given size.\"\"\"\n",
    "        return cv2.resize(image, size)\n",
    "\n",
    "    def augment_image(self, image):\n",
    "        \"\"\"Apply augmentation techniques to the image.\"\"\"\n",
    "        transform = transforms.Compose([\n",
    "            transforms.RandomHorizontalFlip(),\n",
    "            transforms.RandomRotation(10),\n",
    "            transforms.ColorJitter(brightness=0.2, contrast=0.2, saturation=0.2, hue=0.1)\n",
    "        ])\n",
    "        image = transforms.ToPILImage()(image)\n",
    "        augmented_image = transform(image)\n",
    "        return np.array(augmented_image)\n",
    "\n",
    "    def transform_images(self, input_dir: Path, output_dir: Path):\n",
    "        \"\"\"Transform images by resizing and augmenting.\"\"\"\n",
    "        os.makedirs(output_dir, exist_ok=True)\n",
    "        for root, _, files in os.walk(input_dir):\n",
    "            for file in files:\n",
    "                file_path = os.path.join(root, file)\n",
    "                image = cv2.imread(file_path)\n",
    "                if image is None:\n",
    "                    self.logger.warning(f\"Could not read image: {file_path}\")\n",
    "                    continue\n",
    "                \n",
    "                resized_image = self.resize_image(image)\n",
    "                resized_image_path = os.path.join(output_dir, f\"resized_{file}\")\n",
    "                cv2.imwrite(resized_image_path, resized_image)\n",
    "\n",
    "                augmented_image = self.augment_image(resized_image)\n",
    "                augmented_image_path = os.path.join(output_dir, f\"augmented_{file}\")\n",
    "                cv2.imwrite(augmented_image_path, augmented_image)\n",
    "\n",
    "    def run(self):\n",
    "        try:\n",
    "            self.logger.info(\"Starting data transformation...\")\n",
    "\n",
    "            # Process train images\n",
    "            train_output_dir = os.path.join(self.config.transformed_dir, 'train')\n",
    "            self.transform_images(self.config.unzip_train_dir, train_output_dir)\n",
    "\n",
    "            # Process validation images\n",
    "            val_output_dir = os.path.join(self.config.transformed_dir, 'val')\n",
    "            self.transform_images(self.config.unzip_val_dir, val_output_dir)\n",
    "\n",
    "            # Process test images\n",
    "            test_output_dir = os.path.join(self.config.transformed_dir, 'test')\n",
    "            self.transform_images(self.config.unzip_test_dir, test_output_dir)\n",
    "\n",
    "            self.logger.info(\"Data transformation completed. Transformed images saved.\")\n",
    "        except Exception as e:\n",
    "            self.logger.exception(e)\n"
   ]
  },
  {
   "cell_type": "code",
   "execution_count": 39,
   "metadata": {},
   "outputs": [
    {
     "name": "stdout",
     "output_type": "stream",
     "text": [
      "[2024-08-12 09:34:44,575: INFO: common: yaml file: config\\config.yaml loaded successfully]\n",
      "[2024-08-12 09:34:44,577: INFO: common: yaml file: params.yaml loaded successfully]\n",
      "[2024-08-12 09:34:44,578: INFO: common: created directory at: artifacts]\n",
      "[2024-08-12 09:34:44,579: INFO: 1155744968: Starting data transformation...]\n",
      "[2024-08-12 09:35:13,198: INFO: 1155744968: Data transformation completed. Transformed images saved.]\n",
      "Success: Transformed datasets saved in artifacts\\transformed_datasets.\n"
     ]
    }
   ],
   "source": [
    "try:\n",
    "    # Initialize the configuration manager\n",
    "    config = ConfigurationManager()\n",
    "    \n",
    "    # Retrieve the data transformation configuration\n",
    "    data_transformation_config = config.get_data_transformation_config()\n",
    "    \n",
    "    # Create an instance of DataTransformation\n",
    "    data_transformation = DataTransformation(config=data_transformation_config)\n",
    "    \n",
    "    # Run the transformation process\n",
    "    data_transformation.run()\n",
    "    \n",
    "    # Verify that transformed datasets are saved\n",
    "    transformed_images_dir = data_transformation_config.transformed_dir\n",
    "    \n",
    "    # Check if the output directory exists and contains files\n",
    "    if any(Path(transformed_images_dir).iterdir()):\n",
    "        print(f\"Success: Transformed datasets saved in {transformed_images_dir}.\")\n",
    "    else:\n",
    "        print(\"Failure: No transformed datasets found.\")\n",
    "\n",
    "except Exception as e:\n",
    "    print(f\"An error occurred: {e}\")"
   ]
  },
  {
   "cell_type": "code",
   "execution_count": null,
   "metadata": {},
   "outputs": [],
   "source": []
  }
 ],
 "metadata": {
  "kernelspec": {
   "display_name": "agridisease",
   "language": "python",
   "name": "python3"
  },
  "language_info": {
   "codemirror_mode": {
    "name": "ipython",
    "version": 3
   },
   "file_extension": ".py",
   "mimetype": "text/x-python",
   "name": "python",
   "nbconvert_exporter": "python",
   "pygments_lexer": "ipython3",
   "version": "3.12.4"
  }
 },
 "nbformat": 4,
 "nbformat_minor": 2
}
