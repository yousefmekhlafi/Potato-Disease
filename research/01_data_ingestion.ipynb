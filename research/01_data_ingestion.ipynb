{
 "cells": [
  {
   "cell_type": "code",
   "execution_count": 1,
   "metadata": {},
   "outputs": [],
   "source": [
    "import os"
   ]
  },
  {
   "cell_type": "code",
   "execution_count": 2,
   "metadata": {},
   "outputs": [
    {
     "data": {
      "text/plain": [
       "'e:\\\\AI DA Portfolio\\\\Potato-Disease\\\\research'"
      ]
     },
     "execution_count": 2,
     "metadata": {},
     "output_type": "execute_result"
    }
   ],
   "source": [
    "%pwd"
   ]
  },
  {
   "cell_type": "code",
   "execution_count": 3,
   "metadata": {},
   "outputs": [],
   "source": [
    "os.chdir(\"../\")"
   ]
  },
  {
   "cell_type": "code",
   "execution_count": 4,
   "metadata": {},
   "outputs": [
    {
     "data": {
      "text/plain": [
       "'e:\\\\AI DA Portfolio\\\\Potato-Disease'"
      ]
     },
     "execution_count": 4,
     "metadata": {},
     "output_type": "execute_result"
    }
   ],
   "source": [
    "%pwd"
   ]
  },
  {
   "cell_type": "code",
   "execution_count": 7,
   "metadata": {},
   "outputs": [],
   "source": [
    "from dataclasses import dataclass\n",
    "from pathlib import Path\n",
    "\n",
    "@dataclass(frozen=True)\n",
    "class DataIngestionConfig:\n",
    "    root_dir: Path\n",
    "    train_data_source_URL: str\n",
    "    val_data_source_URL: str\n",
    "    test_data_source_URL: str\n",
    "    local_train_data_file: Path\n",
    "    local_val_data_file: Path\n",
    "    local_test_data_file: Path\n",
    "    unzip_train_dir: Path\n",
    "    unzip_val_dir: Path\n",
    "    unzip_test_dir: Path"
   ]
  },
  {
   "cell_type": "code",
   "execution_count": 8,
   "metadata": {},
   "outputs": [],
   "source": [
    "from PotatoDisease.constants import *\n",
    "from PotatoDisease.utils.common import read_yaml, create_directories"
   ]
  },
  {
   "cell_type": "code",
   "execution_count": 9,
   "metadata": {},
   "outputs": [],
   "source": [
    "class ConfigurationManager:\n",
    "    def __init__(\n",
    "        self,\n",
    "        config_filepath=CONFIG_FILE_PATH,\n",
    "        params_filepath=PARAMS_FILE_PATH\n",
    "    ):\n",
    "        self.config = read_yaml(Path(config_filepath))\n",
    "        self.params = read_yaml(Path(params_filepath))\n",
    "\n",
    "        create_directories([self.config.artifacts_root])\n",
    "\n",
    "    def get_data_ingestion_config(self) -> DataIngestionConfig:\n",
    "        config = self.config.data_ingestion\n",
    "\n",
    "        create_directories([\n",
    "            config.root_dir,\n",
    "            config.unzip_train_dir,\n",
    "            config.unzip_val_dir,\n",
    "            config.unzip_test_dir\n",
    "        ])\n",
    "\n",
    "        data_ingestion_config = DataIngestionConfig(\n",
    "            root_dir=config.root_dir,\n",
    "            train_data_source_URL=config.train_data_source_URL,\n",
    "            val_data_source_URL=config.val_data_source_URL,\n",
    "            test_data_source_URL=config.test_data_source_URL,\n",
    "            local_train_data_file=config.local_train_data_file,\n",
    "            local_val_data_file=config.local_val_data_file,\n",
    "            local_test_data_file=config.local_test_data_file,\n",
    "            unzip_train_dir=config.unzip_train_dir,\n",
    "            unzip_val_dir=config.unzip_val_dir,\n",
    "            unzip_test_dir=config.unzip_test_dir\n",
    "        )\n",
    "\n",
    "        return data_ingestion_config\n",
    "    "
   ]
  },
  {
   "cell_type": "code",
   "execution_count": 11,
   "metadata": {},
   "outputs": [],
   "source": [
    "import os\n",
    "import urllib.request as request\n",
    "import zipfile\n",
    "from PotatoDisease.logging import logger\n",
    "from PotatoDisease.utils.common import get_size\n",
    "from tqdm import tqdm"
   ]
  },
  {
   "cell_type": "code",
   "execution_count": 12,
   "metadata": {},
   "outputs": [],
   "source": [
    "class DataIngestion:\n",
    "    def __init__(self, config):\n",
    "        self.config = config\n",
    "\n",
    "    def download_file(self, dataset_type):\n",
    "        if dataset_type == \"train\":\n",
    "            url = self.config.train_data_source_URL\n",
    "            local_data_file = self.config.local_train_data_file\n",
    "        elif dataset_type == \"val\":\n",
    "            url = self.config.val_data_source_URL\n",
    "            local_data_file = self.config.local_val_data_file\n",
    "        elif dataset_type == \"test\":\n",
    "            url = self.config.test_data_source_URL\n",
    "            local_data_file = self.config.local_test_data_file\n",
    "        else:\n",
    "            raise ValueError(\"Invalid dataset type. Choose from 'train', 'val', or 'test'.\")\n",
    "\n",
    "        logger.info(f\"Downloading {dataset_type} dataset from {url}...\")\n",
    "        request.urlretrieve(url, local_data_file)\n",
    "        logger.info(f\"Downloaded {dataset_type} dataset to {local_data_file}.\")\n",
    "\n",
    "    def extract_zip_file(self, dataset_type):\n",
    "        if dataset_type == \"train\":\n",
    "            local_data_file = self.config.local_train_data_file\n",
    "            unzip_path = self.config.unzip_train_dir\n",
    "        elif dataset_type == \"val\":\n",
    "            local_data_file = self.config.local_val_data_file\n",
    "            unzip_path = self.config.unzip_val_dir\n",
    "        elif dataset_type == \"test\":\n",
    "            local_data_file = self.config.local_test_data_file\n",
    "            unzip_path = self.config.unzip_test_dir\n",
    "        else:\n",
    "            raise ValueError(\"Invalid dataset type. Choose from 'train', 'val', or 'test'.\")\n",
    "\n",
    "        os.makedirs(unzip_path, exist_ok=True)\n",
    "        \n",
    "        # Verify the zip file before extracting\n",
    "        if zipfile.is_zipfile(local_data_file):\n",
    "            logger.info(f\"Extracting {dataset_type} dataset...\")\n",
    "            with zipfile.ZipFile(local_data_file, 'r') as zip_ref:\n",
    "                zip_ref.extractall(unzip_path)\n",
    "            logger.info(f\"Extracted {dataset_type} dataset to {unzip_path}.\")\n",
    "        else:\n",
    "            raise zipfile.BadZipFile(\"The file is not a valid zip file.\")\n"
   ]
  },
  {
   "cell_type": "code",
   "execution_count": 13,
   "metadata": {},
   "outputs": [
    {
     "name": "stdout",
     "output_type": "stream",
     "text": [
      "[2024-08-12 05:48:28,668: INFO: common: yaml file: config\\config.yaml loaded successfully]\n",
      "[2024-08-12 05:48:28,676: INFO: common: yaml file: params.yaml loaded successfully]\n",
      "[2024-08-12 05:48:28,677: INFO: common: created directory at: artifacts]\n",
      "[2024-08-12 05:48:28,680: INFO: common: created directory at: artifacts/data_ingestion]\n",
      "[2024-08-12 05:48:28,681: INFO: common: created directory at: artifacts/data_ingestion/train]\n",
      "[2024-08-12 05:48:28,682: INFO: common: created directory at: artifacts/data_ingestion/val]\n",
      "[2024-08-12 05:48:28,683: INFO: common: created directory at: artifacts/data_ingestion/test]\n",
      "[2024-08-12 05:48:28,684: INFO: 2068823624: Downloading train dataset from https://www.dropbox.com/scl/fi/yygtj4pn20onqebi9zbeu/train_data.zip?rlkey=xejca3z1s880obr1y7rks3e8z&st=jslqcrbr&dl=1...]\n",
      "[2024-08-12 05:48:32,753: INFO: 2068823624: Downloaded train dataset to artifacts/data_ingestion/train_data.zip.]\n",
      "[2024-08-12 05:48:32,760: INFO: 2068823624: Extracting train dataset...]\n",
      "[2024-08-12 05:48:33,375: INFO: 2068823624: Extracted train dataset to artifacts/data_ingestion/train.]\n",
      "[2024-08-12 05:48:33,376: INFO: 2068823624: Downloading val dataset from https://www.dropbox.com/scl/fi/i3h3mwsqwsedqi8jwy5d0/val_data.zip?rlkey=fobpijfq1zuu3ozosvvcfzc37&st=8syh7v71&dl=1...]\n",
      "[2024-08-12 05:48:36,213: INFO: 2068823624: Downloaded val dataset to artifacts/data_ingestion/val_data.zip.]\n",
      "[2024-08-12 05:48:36,237: INFO: 2068823624: Extracting val dataset...]\n",
      "[2024-08-12 05:48:36,411: INFO: 2068823624: Extracted val dataset to artifacts/data_ingestion/val.]\n",
      "[2024-08-12 05:48:36,412: INFO: 2068823624: Downloading test dataset from https://www.dropbox.com/scl/fi/t141qor6io98rrzzde2lv/test_data.zip?rlkey=dnelepg8b6ghxvrkiajwj56ht&st=0uimuo7s&dl=1...]\n",
      "[2024-08-12 05:48:39,081: INFO: 2068823624: Downloaded test dataset to artifacts/data_ingestion/test_data.zip.]\n",
      "[2024-08-12 05:48:39,089: INFO: 2068823624: Extracting test dataset...]\n",
      "[2024-08-12 05:48:39,256: INFO: 2068823624: Extracted test dataset to artifacts/data_ingestion/test.]\n"
     ]
    }
   ],
   "source": [
    "try:\n",
    "    config = ConfigurationManager()\n",
    "    data_ingestion_config = config.get_data_ingestion_config()\n",
    "    data_ingestion = DataIngestion(config=data_ingestion_config)\n",
    "\n",
    "    # Download and extract for each dataset type\n",
    "    for dataset_type in ['train', 'val', 'test']:\n",
    "        data_ingestion.download_file(dataset_type)\n",
    "        data_ingestion.extract_zip_file(dataset_type)\n",
    "\n",
    "except Exception as e:\n",
    "    logger.error(f\"An error occurred: {e}\")\n",
    "    raise"
   ]
  },
  {
   "cell_type": "code",
   "execution_count": null,
   "metadata": {},
   "outputs": [],
   "source": []
  }
 ],
 "metadata": {
  "kernelspec": {
   "display_name": "agridisease",
   "language": "python",
   "name": "python3"
  },
  "language_info": {
   "codemirror_mode": {
    "name": "ipython",
    "version": 3
   },
   "file_extension": ".py",
   "mimetype": "text/x-python",
   "name": "python",
   "nbconvert_exporter": "python",
   "pygments_lexer": "ipython3",
   "version": "3.12.4"
  }
 },
 "nbformat": 4,
 "nbformat_minor": 2
}
